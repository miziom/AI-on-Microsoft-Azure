{
 "cells": [
  {
   "cell_type": "markdown",
   "source": [
    "# Use Case\n",
    "Choroby serca są główną przyczyną zgonów na świecie, powodując około 17,9 miliona osób rocznie, co stanowi około 32% wszystkich zgonów na świecie. Poniższy notebook umożliwia klasyfikowanie na podstawie danych w tabeli, czy dana osoba będzie narażona na choroby serca, czy nie. \n",
    "Dane pochodzą z [link](https://www.kaggle.com/sid321axn/heart-statlog-cleveland-hungary-final?select=heart_statlog_cleveland_hungary_final.csv). Zbiór ten łączy 11 cech, które umożliwiają ocenę, czy dana osoba będzie narażona na choroby serca.\n",
    "Dane do pobrania z linku znajdują się w repozytorium jako `heart_disease.csv`\n",
    "\n",
    "# Cel \n",
    "Przewidywania wartości w kolumnie `target` (narażony na chorobę serca) na podstawie pozostałych danych oraz znalezienie najlepszego algorytmu z listy dostępnych."
   ],
   "metadata": {}
  },
  {
   "cell_type": "markdown",
   "source": [
    "# Po co czytać? Jak można obejrzeć\n",
    "[Youtube - film](https://youtu.be/eHDdKH4-Y1Y)"
   ],
   "metadata": {
    "collapsed": false
   }
  },
  {
   "cell_type": "markdown",
   "source": [
    "# Podstawy\n",
    "1. Zaloguj się na [Azure Portal](https://portal.azure.com/#home)\n",
    "2. Stwórz zasób Azure Machine Learning\n",
    "3. Przejdź do Azure Machine Learning Studio\n",
    "4. Dodaj zbiór - zakładka Datasets (tworzymy zbiór po przez wczytanie zbioru heart_disease.csv)\n",
    "5. Stwórz Compute Instances oraz Compute Clusters - zakładka Compute \n",
    "- Compute Instance - potrzebny do obsługi Notebooka\n",
    "- Compute Cluster - potrzebny do prowadzenia treningu\n",
    "6. Następnie użyj Automated ML with UI lub Notebooks"
   ],
   "metadata": {
    "nteract": {
     "transient": {
      "deleting": false
     }
    }
   }
  },
  {
   "cell_type": "markdown",
   "source": [
    "# Automated ML with UI\r\n",
    "\r\n",
    "W celu skorzystania należy w zakładzcie Automated ML:\r\n",
    "\r\n",
    "1. Wybierz New Automated ML run\r\n",
    "2. Wybieramy dodany zbiór danych\r\n",
    "3. Konfigutacja 'biegu' po przez dodanie nazwy, wybranie stworzonego wcześniej klastra oraz wybranie kolumny, której wartości chcemy przewidywać.\r\n",
    "4. Wybór typu zadania (klasyfikacja, regresja, przewidywanie wartości w czasie) - wybrano klasyfikacje\r\n",
    "5. Po zakończonym procesie w jego szczególach w zakładce 'Models' możemy zobaczyć, że najlepszym algorytmem dla naszego zadania będzie `VotingEnsemble`, który osiągnął dokładność równą 93,445%\r\n",
    "\r\n",
    "Ograniczono czas na uczenie do 2h.\r\n",
    "Użycie graficznego interfejsu dla Automated ML umożliwi a trwyialny sposób na realizację tego zadania. Przeprowadzony eksperyment porównał poszczególne algorytmy i pokazał który będzie miał najlepszą dokładnośc dla wyznaczonego zadania."
   ],
   "metadata": {
    "nteract": {
     "transient": {
      "deleting": false
     }
    }
   }
  },
  {
   "cell_type": "markdown",
   "source": [
    "# Użycie Notebooka\r\n",
    "\r\n",
    "1. Przejdź do zakładki Notebooks\r\n",
    "\r\n",
    "Wybierz jedną z dróg\r\n",
    "\r\n",
    "Pierwsza:\r\n",
    "\r\n",
    "2. Stwórz nowy Notebook i dołącz do niego Compute Instance.\r\n",
    "3. Wczytaj plik `requirements.txt` do plików środowiska.\r\n",
    "4. Skopiuj poszczególne komendy przedstawione poniżej i wywołaj w swoim Notebooku\r\n",
    "\r\n",
    "Druga:\r\n",
    "\r\n",
    "2. Wczytaj plik `requirements.txt` oraz `heart-notebook-pre.ipynb` do plików środowiska.\r\n",
    "3. Otwórz plik Notebooka `heart-notebook-pre.ipynb`.\r\n",
    "4. Wykonuj zapisane polecenia w kolejności. "
   ],
   "metadata": {
    "nteract": {
     "transient": {
      "deleting": false
     }
    }
   }
  },
  {
   "cell_type": "markdown",
   "source": [
    "# Notebook"
   ],
   "metadata": {
    "nteract": {
     "transient": {
      "deleting": false
     }
    }
   }
  },
  {
   "cell_type": "markdown",
   "source": [
    "## Update do SDK version: 1.20.0 sprawił, że należy zainstalować potrzebne wersje narzędzi kodem poniżej.\r\n",
    "Po zainstalowaniu potrzebnych wymagań zresetuj sesje (reset kernel)"
   ],
   "metadata": {
    "nteract": {
     "transient": {
      "deleting": false
     }
    }
   }
  },
  {
   "cell_type": "code",
   "source": [
    "pip install -r ./requirements.txt"
   ],
   "outputs": [
    {
     "output_type": "stream",
     "name": "stdout",
     "text": [
      "Requirement already satisfied: azureml-sdk==1.20.0 in /anaconda/envs/azureml_py36/lib/python3.6/site-packages (from -r ./requirements.txt (line 1)) (1.20.0)\n",
      "Requirement already satisfied: azureml-core==1.20.0 in /anaconda/envs/azureml_py36/lib/python3.6/site-packages (from -r ./requirements.txt (line 2)) (1.20.0)\n",
      "Requirement already satisfied: azureml-automl-runtime==1.20.0 in /anaconda/envs/azureml_py36/lib/python3.6/site-packages (from -r ./requirements.txt (line 3)) (1.20.0)\n",
      "Requirement already satisfied: azureml-dataprep==2.7.3 in /anaconda/envs/azureml_py36/lib/python3.6/site-packages (from -r ./requirements.txt (line 5)) (2.7.3)\n",
      "Requirement already satisfied: azureml-dataprep-native==27.0.0 in /anaconda/envs/azureml_py36/lib/python3.6/site-packages (from -r ./requirements.txt (line 6)) (27.0.0)\n",
      "Requirement already satisfied: azureml-dataprep-rslex==1.5.0 in /anaconda/envs/azureml_py36/lib/python3.6/site-packages (from -r ./requirements.txt (line 7)) (1.5.0)\n",
      "Requirement already satisfied: azureml-dataset-runtime==1.20.0 in /anaconda/envs/azureml_py36/lib/python3.6/site-packages (from -r ./requirements.txt (line 8)) (1.20.0)\n",
      "Requirement already satisfied: azureml-defaults==1.20.0 in /anaconda/envs/azureml_py36/lib/python3.6/site-packages (from -r ./requirements.txt (line 9)) (1.20.0)\n",
      "Requirement already satisfied: azureml-interpret==1.20.0 in /anaconda/envs/azureml_py36/lib/python3.6/site-packages (from -r ./requirements.txt (line 10)) (1.20.0)\n",
      "Requirement already satisfied: azureml-pipeline-core==1.20.0 in /anaconda/envs/azureml_py36/lib/python3.6/site-packages (from -r ./requirements.txt (line 11)) (1.20.0)\n",
      "Requirement already satisfied: azureml-telemetry==1.20.0 in /anaconda/envs/azureml_py36/lib/python3.6/site-packages (from -r ./requirements.txt (line 12)) (1.20.0)\n",
      "Requirement already satisfied: azureml-train-automl-client==1.20.0 in /anaconda/envs/azureml_py36/lib/python3.6/site-packages (from -r ./requirements.txt (line 13)) (1.20.0)\n",
      "Requirement already satisfied: azureml-train-automl-runtime==1.20.0.post1 in /anaconda/envs/azureml_py36/lib/python3.6/site-packages (from -r ./requirements.txt (line 14)) (1.20.0.post1)\n",
      "Requirement already satisfied: azureml-pipeline~=1.20.0 in /anaconda/envs/azureml_py36/lib/python3.6/site-packages (from azureml-sdk==1.20.0->-r ./requirements.txt (line 1)) (1.20.0)\n",
      "Requirement already satisfied: azureml-train~=1.20.0 in /anaconda/envs/azureml_py36/lib/python3.6/site-packages (from azureml-sdk==1.20.0->-r ./requirements.txt (line 1)) (1.20.0)\n",
      "Requirement already satisfied: azure-graphrbac<1.0.0,>=0.40.0 in /anaconda/envs/azureml_py36/lib/python3.6/site-packages (from azureml-core==1.20.0->-r ./requirements.txt (line 2)) (0.61.1)\n",
      "Requirement already satisfied: contextlib2 in /anaconda/envs/azureml_py36/lib/python3.6/site-packages (from azureml-core==1.20.0->-r ./requirements.txt (line 2)) (0.6.0.post1)\n",
      "Requirement already satisfied: SecretStorage in /anaconda/envs/azureml_py36/lib/python3.6/site-packages (from azureml-core==1.20.0->-r ./requirements.txt (line 2)) (3.3.0)\n",
      "Requirement already satisfied: azure-mgmt-keyvault<7.0.0,>=0.40.0 in /anaconda/envs/azureml_py36/lib/python3.6/site-packages (from azureml-core==1.20.0->-r ./requirements.txt (line 2)) (2.2.0)\n",
      "Requirement already satisfied: urllib3>=1.23 in /anaconda/envs/azureml_py36/lib/python3.6/site-packages (from azureml-core==1.20.0->-r ./requirements.txt (line 2)) (1.26.2)\n",
      "Requirement already satisfied: jsonpickle in /anaconda/envs/azureml_py36/lib/python3.6/site-packages (from azureml-core==1.20.0->-r ./requirements.txt (line 2)) (1.5.0)\n",
      "Requirement already satisfied: PyJWT<2.0.0 in /anaconda/envs/azureml_py36/lib/python3.6/site-packages (from azureml-core==1.20.0->-r ./requirements.txt (line 2)) (1.7.1)\n",
      "Requirement already satisfied: jmespath in /anaconda/envs/azureml_py36/lib/python3.6/site-packages (from azureml-core==1.20.0->-r ./requirements.txt (line 2)) (0.10.0)\n",
      "Requirement already satisfied: azure-mgmt-containerregistry>=2.0.0 in /anaconda/envs/azureml_py36/lib/python3.6/site-packages (from azureml-core==1.20.0->-r ./requirements.txt (line 2)) (2.8.0)\n",
      "Requirement already satisfied: adal>=1.2.0 in /anaconda/envs/azureml_py36/lib/python3.6/site-packages (from azureml-core==1.20.0->-r ./requirements.txt (line 2)) (1.2.6)\n",
      "Requirement already satisfied: python-dateutil>=2.7.3 in /anaconda/envs/azureml_py36/lib/python3.6/site-packages (from azureml-core==1.20.0->-r ./requirements.txt (line 2)) (2.8.1)\n",
      "Requirement already satisfied: pathspec in /anaconda/envs/azureml_py36/lib/python3.6/site-packages (from azureml-core==1.20.0->-r ./requirements.txt (line 2)) (0.8.1)\n",
      "Requirement already satisfied: cryptography!=1.9,!=2.0.*,!=2.1.*,!=2.2.* in /anaconda/envs/azureml_py36/lib/python3.6/site-packages (from azureml-core==1.20.0->-r ./requirements.txt (line 2)) (3.3.1)\n",
      "Requirement already satisfied: ndg-httpsclient in /anaconda/envs/azureml_py36/lib/python3.6/site-packages (from azureml-core==1.20.0->-r ./requirements.txt (line 2)) (0.5.1)\n",
      "Requirement already satisfied: docker in /anaconda/envs/azureml_py36/lib/python3.6/site-packages (from azureml-core==1.20.0->-r ./requirements.txt (line 2)) (4.4.1)\n",
      "Requirement already satisfied: requests>=2.19.1 in /anaconda/envs/azureml_py36/lib/python3.6/site-packages (from azureml-core==1.20.0->-r ./requirements.txt (line 2)) (2.25.1)\n",
      "Requirement already satisfied: azure-mgmt-storage<16.0.0,>=1.5.0 in /anaconda/envs/azureml_py36/lib/python3.6/site-packages (from azureml-core==1.20.0->-r ./requirements.txt (line 2)) (11.2.0)\n",
      "Requirement already satisfied: azure-common>=1.1.12 in /anaconda/envs/azureml_py36/lib/python3.6/site-packages (from azureml-core==1.20.0->-r ./requirements.txt (line 2)) (1.1.26)\n",
      "Requirement already satisfied: azure-mgmt-authorization<1.0.0,>=0.40.0 in /anaconda/envs/azureml_py36/lib/python3.6/site-packages (from azureml-core==1.20.0->-r ./requirements.txt (line 2)) (0.61.0)\n",
      "Requirement already satisfied: pyopenssl<20.0.0 in /anaconda/envs/azureml_py36/lib/python3.6/site-packages (from azureml-core==1.20.0->-r ./requirements.txt (line 2)) (19.1.0)\n",
      "Requirement already satisfied: msrestazure>=0.4.33 in /anaconda/envs/azureml_py36/lib/python3.6/site-packages (from azureml-core==1.20.0->-r ./requirements.txt (line 2)) (0.6.4)\n",
      "Requirement already satisfied: backports.tempfile in /anaconda/envs/azureml_py36/lib/python3.6/site-packages (from azureml-core==1.20.0->-r ./requirements.txt (line 2)) (1.0)\n",
      "Requirement already satisfied: ruamel.yaml>=0.15.35 in /anaconda/envs/azureml_py36/lib/python3.6/site-packages (from azureml-core==1.20.0->-r ./requirements.txt (line 2)) (0.16.12)\n",
      "Requirement already satisfied: azure-mgmt-resource<15.0.0,>=1.2.1 in /anaconda/envs/azureml_py36/lib/python3.6/site-packages (from azureml-core==1.20.0->-r ./requirements.txt (line 2)) (12.0.0)\n",
      "Requirement already satisfied: msrest>=0.5.1 in /anaconda/envs/azureml_py36/lib/python3.6/site-packages (from azureml-core==1.20.0->-r ./requirements.txt (line 2)) (0.6.19)\n",
      "Requirement already satisfied: pytz in /anaconda/envs/azureml_py36/lib/python3.6/site-packages (from azureml-core==1.20.0->-r ./requirements.txt (line 2)) (2020.5)\n",
      "Requirement already satisfied: numpy<1.19.0,>=1.16.0 in /anaconda/envs/azureml_py36/lib/python3.6/site-packages (from azureml-automl-runtime==1.20.0->-r ./requirements.txt (line 3)) (1.18.5)\n",
      "Requirement already satisfied: lightgbm<=2.3.0,>=2.0.11 in /anaconda/envs/azureml_py36/lib/python3.6/site-packages (from azureml-automl-runtime==1.20.0->-r ./requirements.txt (line 3)) (2.3.0)\n",
      "Requirement already satisfied: azureml-automl-core~=1.20.0 in /anaconda/envs/azureml_py36/lib/python3.6/site-packages (from azureml-automl-runtime==1.20.0->-r ./requirements.txt (line 3)) (1.20.0)\n",
      "Requirement already satisfied: scikit-learn<0.23.0,>=0.19.0 in /anaconda/envs/azureml_py36/lib/python3.6/site-packages (from azureml-automl-runtime==1.20.0->-r ./requirements.txt (line 3)) (0.22.2.post1)\n",
      "Requirement already satisfied: psutil<6.0.0,>=5.2.2 in /anaconda/envs/azureml_py36/lib/python3.6/site-packages (from azureml-automl-runtime==1.20.0->-r ./requirements.txt (line 3)) (5.7.3)\n",
      "Requirement already satisfied: sklearn-pandas<=1.7.0,>=1.4.0 in /anaconda/envs/azureml_py36/lib/python3.6/site-packages (from azureml-automl-runtime==1.20.0->-r ./requirements.txt (line 3)) (1.7.0)\n",
      "Requirement already satisfied: onnxconverter-common<=1.6.0,>=1.4.2 in /anaconda/envs/azureml_py36/lib/python3.6/site-packages (from azureml-automl-runtime==1.20.0->-r ./requirements.txt (line 3)) (1.6.0)\n",
      "Requirement already satisfied: scipy<=1.5.2,>=1.0.0 in /anaconda/envs/azureml_py36/lib/python3.6/site-packages (from azureml-automl-runtime==1.20.0->-r ./requirements.txt (line 3)) (1.5.2)\n",
      "Requirement already satisfied: botocore<=1.18.18 in /anaconda/envs/azureml_py36/lib/python3.6/site-packages (from azureml-automl-runtime==1.20.0->-r ./requirements.txt (line 3)) (1.18.18)\n",
      "Requirement already satisfied: onnxmltools==1.4.1 in /anaconda/envs/azureml_py36/lib/python3.6/site-packages (from azureml-automl-runtime==1.20.0->-r ./requirements.txt (line 3)) (1.4.1)\n",
      "Requirement already satisfied: skl2onnx==1.4.9 in /anaconda/envs/azureml_py36/lib/python3.6/site-packages (from azureml-automl-runtime==1.20.0->-r ./requirements.txt (line 3)) (1.4.9)\n",
      "Requirement already satisfied: keras2onnx<=1.6.0,>=1.4.0 in /anaconda/envs/azureml_py36/lib/python3.6/site-packages (from azureml-automl-runtime==1.20.0->-r ./requirements.txt (line 3)) (1.6.0)\n",
      "Requirement already satisfied: gensim<3.9.0 in /anaconda/envs/azureml_py36/lib/python3.6/site-packages (from azureml-automl-runtime==1.20.0->-r ./requirements.txt (line 3)) (3.8.3)\n",
      "Requirement already satisfied: statsmodels<=0.10.2,>=0.9.0 in /anaconda/envs/azureml_py36/lib/python3.6/site-packages (from azureml-automl-runtime==1.20.0->-r ./requirements.txt (line 3)) (0.10.2)\n",
      "Requirement already satisfied: dill<0.4.0,>=0.2.8 in /anaconda/envs/azureml_py36/lib/python3.6/site-packages (from azureml-automl-runtime==1.20.0->-r ./requirements.txt (line 3)) (0.3.3)\n",
      "Requirement already satisfied: boto3<=1.15.18 in /anaconda/envs/azureml_py36/lib/python3.6/site-packages (from azureml-automl-runtime==1.20.0->-r ./requirements.txt (line 3)) (1.15.18)\n",
      "Requirement already satisfied: py-cpuinfo==5.0.0 in /anaconda/envs/azureml_py36/lib/python3.6/site-packages (from azureml-automl-runtime==1.20.0->-r ./requirements.txt (line 3)) (5.0.0)\n",
      "Requirement already satisfied: pmdarima==1.1.1 in /anaconda/envs/azureml_py36/lib/python3.6/site-packages (from azureml-automl-runtime==1.20.0->-r ./requirements.txt (line 3)) (1.1.1)\n",
      "Requirement already satisfied: onnxruntime==1.3.0 in /anaconda/envs/azureml_py36/lib/python3.6/site-packages (from azureml-automl-runtime==1.20.0->-r ./requirements.txt (line 3)) (1.3.0)\n",
      "Requirement already satisfied: joblib==0.14.1 in /anaconda/envs/azureml_py36/lib/python3.6/site-packages (from azureml-automl-runtime==1.20.0->-r ./requirements.txt (line 3)) (0.14.1)\n",
      "Requirement already satisfied: onnx<=1.7.0,>=1.5.0 in /anaconda/envs/azureml_py36/lib/python3.6/site-packages (from azureml-automl-runtime==1.20.0->-r ./requirements.txt (line 3)) (1.7.0)\n",
      "Requirement already satisfied: smart-open<=1.9.0 in /anaconda/envs/azureml_py36/lib/python3.6/site-packages (from azureml-automl-runtime==1.20.0->-r ./requirements.txt (line 3)) (1.9.0)\n",
      "Requirement already satisfied: nimbusml<=1.8.0,>=1.7.1 in /anaconda/envs/azureml_py36/lib/python3.6/site-packages (from azureml-automl-runtime==1.20.0->-r ./requirements.txt (line 3)) (1.8.0)\n",
      "Requirement already satisfied: pandas<1.0.0,>=0.21.0 in /anaconda/envs/azureml_py36/lib/python3.6/site-packages (from azureml-automl-runtime==1.20.0->-r ./requirements.txt (line 3)) (0.25.3)\n",
      "Requirement already satisfied: dotnetcore2<3.0.0,>=2.1.14 in /anaconda/envs/azureml_py36/lib/python3.6/site-packages (from azureml-dataprep==2.7.3->-r ./requirements.txt (line 5)) (2.1.20)\n",
      "Requirement already satisfied: azure-identity<1.5.0,>=1.2.0 in /anaconda/envs/azureml_py36/lib/python3.6/site-packages (from azureml-dataprep==2.7.3->-r ./requirements.txt (line 5)) (1.4.1)\n",
      "Requirement already satisfied: cloudpickle<2.0.0,>=1.1.0 in /anaconda/envs/azureml_py36/lib/python3.6/site-packages (from azureml-dataprep==2.7.3->-r ./requirements.txt (line 5)) (1.6.0)\n",
      "Requirement already satisfied: pyarrow<2.0.0,>=0.17.0 in /anaconda/envs/azureml_py36/lib/python3.6/site-packages (from azureml-dataset-runtime==1.20.0->-r ./requirements.txt (line 8)) (1.0.1)\n",
      "Requirement already satisfied: json-logging-py==0.2 in /anaconda/envs/azureml_py36/lib/python3.6/site-packages (from azureml-defaults==1.20.0->-r ./requirements.txt (line 9)) (0.2)\n",
      "Requirement already satisfied: configparser==3.7.4 in /anaconda/envs/azureml_py36/lib/python3.6/site-packages (from azureml-defaults==1.20.0->-r ./requirements.txt (line 9)) (3.7.4)\n",
      "Requirement already satisfied: flask==1.0.3 in /anaconda/envs/azureml_py36/lib/python3.6/site-packages (from azureml-defaults==1.20.0->-r ./requirements.txt (line 9)) (1.0.3)\n",
      "Requirement already satisfied: werkzeug<=1.0.1,>=0.16.1 in /anaconda/envs/azureml_py36/lib/python3.6/site-packages (from azureml-defaults==1.20.0->-r ./requirements.txt (line 9)) (1.0.1)\n",
      "Requirement already satisfied: applicationinsights>=0.11.7 in /anaconda/envs/azureml_py36/lib/python3.6/site-packages (from azureml-defaults==1.20.0->-r ./requirements.txt (line 9)) (0.11.9)\n",
      "Requirement already satisfied: azureml-model-management-sdk==1.0.1b6.post1 in /anaconda/envs/azureml_py36/lib/python3.6/site-packages (from azureml-defaults==1.20.0->-r ./requirements.txt (line 9)) (1.0.1b6.post1)\n",
      "Requirement already satisfied: gunicorn==19.9.0 in /anaconda/envs/azureml_py36/lib/python3.6/site-packages (from azureml-defaults==1.20.0->-r ./requirements.txt (line 9)) (19.9.0)\n",
      "Requirement already satisfied: interpret-community==0.15.* in /anaconda/envs/azureml_py36/lib/python3.6/site-packages (from azureml-interpret==1.20.0->-r ./requirements.txt (line 10)) (0.15.4)\n",
      "Requirement already satisfied: azure-storage-queue~=12.1 in /anaconda/envs/azureml_py36/lib/python3.6/site-packages (from azureml-train-automl-runtime==1.20.0.post1->-r ./requirements.txt (line 14)) (12.1.4)\n",
      "Requirement already satisfied: jinja2<=2.11.2 in /anaconda/envs/azureml_py36/lib/python3.6/site-packages (from azureml-train-automl-runtime==1.20.0.post1->-r ./requirements.txt (line 14)) (2.11.2)\n",
      "Requirement already satisfied: azureml-pipeline-steps~=1.20.0 in /anaconda/envs/azureml_py36/lib/python3.6/site-packages (from azureml-pipeline~=1.20.0->azureml-sdk==1.20.0->-r ./requirements.txt (line 1)) (1.20.0)\n",
      "Requirement already satisfied: azureml-train-core~=1.20.0 in /anaconda/envs/azureml_py36/lib/python3.6/site-packages (from azureml-train~=1.20.0->azureml-sdk==1.20.0->-r ./requirements.txt (line 1)) (1.20.0)\n",
      "Requirement already satisfied: jeepney>=0.6 in /anaconda/envs/azureml_py36/lib/python3.6/site-packages (from SecretStorage->azureml-core==1.20.0->-r ./requirements.txt (line 2)) (0.6.0)\n",
      "Requirement already satisfied: importlib-metadata; python_version < \"3.8\" in /anaconda/envs/azureml_py36/lib/python3.6/site-packages (from jsonpickle->azureml-core==1.20.0->-r ./requirements.txt (line 2)) (3.4.0)\n",
      "Requirement already satisfied: six>=1.5 in /anaconda/envs/azureml_py36/lib/python3.6/site-packages (from python-dateutil>=2.7.3->azureml-core==1.20.0->-r ./requirements.txt (line 2)) (1.15.0)\n",
      "Requirement already satisfied: cffi>=1.12 in /anaconda/envs/azureml_py36/lib/python3.6/site-packages (from cryptography!=1.9,!=2.0.*,!=2.1.*,!=2.2.*->azureml-core==1.20.0->-r ./requirements.txt (line 2)) (1.14.4)\n",
      "Requirement already satisfied: pyasn1>=0.1.1 in /anaconda/envs/azureml_py36/lib/python3.6/site-packages (from ndg-httpsclient->azureml-core==1.20.0->-r ./requirements.txt (line 2)) (0.4.8)\n",
      "Requirement already satisfied: websocket-client>=0.32.0 in /anaconda/envs/azureml_py36/lib/python3.6/site-packages (from docker->azureml-core==1.20.0->-r ./requirements.txt (line 2)) (0.57.0)\n",
      "Requirement already satisfied: certifi>=2017.4.17 in /anaconda/envs/azureml_py36/lib/python3.6/site-packages (from requests>=2.19.1->azureml-core==1.20.0->-r ./requirements.txt (line 2)) (2020.12.5)\n",
      "Requirement already satisfied: idna<3,>=2.5 in /anaconda/envs/azureml_py36/lib/python3.6/site-packages (from requests>=2.19.1->azureml-core==1.20.0->-r ./requirements.txt (line 2)) (2.10)\n",
      "Requirement already satisfied: chardet<5,>=3.0.2 in /anaconda/envs/azureml_py36/lib/python3.6/site-packages (from requests>=2.19.1->azureml-core==1.20.0->-r ./requirements.txt (line 2)) (4.0.0)\n",
      "Requirement already satisfied: backports.weakref in /anaconda/envs/azureml_py36/lib/python3.6/site-packages (from backports.tempfile->azureml-core==1.20.0->-r ./requirements.txt (line 2)) (1.0.post1)\n",
      "Requirement already satisfied: ruamel.yaml.clib>=0.1.2; platform_python_implementation == \"CPython\" and python_version < \"3.9\" in /anaconda/envs/azureml_py36/lib/python3.6/site-packages (from ruamel.yaml>=0.15.35->azureml-core==1.20.0->-r ./requirements.txt (line 2)) (0.2.2)\n",
      "Requirement already satisfied: requests-oauthlib>=0.5.0 in /anaconda/envs/azureml_py36/lib/python3.6/site-packages (from msrest>=0.5.1->azureml-core==1.20.0->-r ./requirements.txt (line 2)) (1.3.0)\n",
      "Requirement already satisfied: isodate>=0.6.0 in /anaconda/envs/azureml_py36/lib/python3.6/site-packages (from msrest>=0.5.1->azureml-core==1.20.0->-r ./requirements.txt (line 2)) (0.6.0)\n",
      "Requirement already satisfied: protobuf in /anaconda/envs/azureml_py36/lib/python3.6/site-packages (from onnxconverter-common<=1.6.0,>=1.4.2->azureml-automl-runtime==1.20.0->-r ./requirements.txt (line 3)) (3.14.0)\n",
      "Requirement already satisfied: fire in /anaconda/envs/azureml_py36/lib/python3.6/site-packages (from keras2onnx<=1.6.0,>=1.4.0->azureml-automl-runtime==1.20.0->-r ./requirements.txt (line 3)) (0.3.1)\n",
      "Requirement already satisfied: patsy>=0.4.0 in /anaconda/envs/azureml_py36/lib/python3.6/site-packages (from statsmodels<=0.10.2,>=0.9.0->azureml-automl-runtime==1.20.0->-r ./requirements.txt (line 3)) (0.5.1)\n",
      "Requirement already satisfied: s3transfer<0.4.0,>=0.3.0 in /anaconda/envs/azureml_py36/lib/python3.6/site-packages (from boto3<=1.15.18->azureml-automl-runtime==1.20.0->-r ./requirements.txt (line 3)) (0.3.3)\n",
      "Requirement already satisfied: Cython>=0.29 in /anaconda/envs/azureml_py36/lib/python3.6/site-packages (from pmdarima==1.1.1->azureml-automl-runtime==1.20.0->-r ./requirements.txt (line 3)) (0.29.21)\n",
      "Requirement already satisfied: typing-extensions>=3.6.2.1 in /anaconda/envs/azureml_py36/lib/python3.6/site-packages (from onnx<=1.7.0,>=1.5.0->azureml-automl-runtime==1.20.0->-r ./requirements.txt (line 3)) (3.7.4.3)\n",
      "Requirement already satisfied: boto>=2.32 in /anaconda/envs/azureml_py36/lib/python3.6/site-packages (from smart-open<=1.9.0->azureml-automl-runtime==1.20.0->-r ./requirements.txt (line 3)) (2.49.0)\n",
      "Requirement already satisfied: distro>=1.2.0 in /anaconda/envs/azureml_py36/lib/python3.6/site-packages (from dotnetcore2<3.0.0,>=2.1.14->azureml-dataprep==2.7.3->-r ./requirements.txt (line 5)) (1.5.0)\n",
      "Requirement already satisfied: msal<2.0.0,>=1.3.0 in /anaconda/envs/azureml_py36/lib/python3.6/site-packages (from azure-identity<1.5.0,>=1.2.0->azureml-dataprep==2.7.3->-r ./requirements.txt (line 5)) (1.8.0)\n",
      "Requirement already satisfied: azure-core<2.0.0,>=1.0.0 in /anaconda/envs/azureml_py36/lib/python3.6/site-packages (from azure-identity<1.5.0,>=1.2.0->azureml-dataprep==2.7.3->-r ./requirements.txt (line 5)) (1.10.0)\n",
      "Requirement already satisfied: msal-extensions~=0.2.2 in /anaconda/envs/azureml_py36/lib/python3.6/site-packages (from azure-identity<1.5.0,>=1.2.0->azureml-dataprep==2.7.3->-r ./requirements.txt (line 5)) (0.2.2)\n",
      "Requirement already satisfied: itsdangerous>=0.24 in /anaconda/envs/azureml_py36/lib/python3.6/site-packages (from flask==1.0.3->azureml-defaults==1.20.0->-r ./requirements.txt (line 9)) (1.1.0)\n",
      "Requirement already satisfied: click>=5.1 in /anaconda/envs/azureml_py36/lib/python3.6/site-packages (from flask==1.0.3->azureml-defaults==1.20.0->-r ./requirements.txt (line 9)) (7.1.2)\n",
      "Requirement already satisfied: liac-arff>=2.1.1 in /anaconda/envs/azureml_py36/lib/python3.6/site-packages (from azureml-model-management-sdk==1.0.1b6.post1->azureml-defaults==1.20.0->-r ./requirements.txt (line 9)) (2.5.0)\n",
      "Requirement already satisfied: packaging in /anaconda/envs/azureml_py36/lib/python3.6/site-packages (from interpret-community==0.15.*->azureml-interpret==1.20.0->-r ./requirements.txt (line 10)) (20.7)\n",
      "Requirement already satisfied: interpret-core[required]<=0.2.1,>=0.1.20 in /anaconda/envs/azureml_py36/lib/python3.6/site-packages (from interpret-community==0.15.*->azureml-interpret==1.20.0->-r ./requirements.txt (line 10)) (0.2.1)\n",
      "Requirement already satisfied: shap<=0.34.0,>=0.20.0 in /anaconda/envs/azureml_py36/lib/python3.6/site-packages (from interpret-community==0.15.*->azureml-interpret==1.20.0->-r ./requirements.txt (line 10)) (0.34.0)\n",
      "Requirement already satisfied: MarkupSafe>=0.23 in /anaconda/envs/azureml_py36/lib/python3.6/site-packages (from jinja2<=2.11.2->azureml-train-automl-runtime==1.20.0.post1->-r ./requirements.txt (line 14)) (1.1.1)\n",
      "Requirement already satisfied: azureml-train-restclients-hyperdrive~=1.20.0 in /anaconda/envs/azureml_py36/lib/python3.6/site-packages (from azureml-train-core~=1.20.0->azureml-train~=1.20.0->azureml-sdk==1.20.0->-r ./requirements.txt (line 1)) (1.20.0)\n",
      "Requirement already satisfied: zipp>=0.5 in /anaconda/envs/azureml_py36/lib/python3.6/site-packages (from importlib-metadata; python_version < \"3.8\"->jsonpickle->azureml-core==1.20.0->-r ./requirements.txt (line 2)) (3.4.0)\n",
      "Requirement already satisfied: pycparser in /anaconda/envs/azureml_py36/lib/python3.6/site-packages (from cffi>=1.12->cryptography!=1.9,!=2.0.*,!=2.1.*,!=2.2.*->azureml-core==1.20.0->-r ./requirements.txt (line 2)) (2.20)\n",
      "Requirement already satisfied: oauthlib>=3.0.0 in /anaconda/envs/azureml_py36/lib/python3.6/site-packages (from requests-oauthlib>=0.5.0->msrest>=0.5.1->azureml-core==1.20.0->-r ./requirements.txt (line 2)) (3.1.0)\n",
      "Requirement already satisfied: termcolor in /anaconda/envs/azureml_py36/lib/python3.6/site-packages (from fire->keras2onnx<=1.6.0,>=1.4.0->azureml-automl-runtime==1.20.0->-r ./requirements.txt (line 3)) (1.1.0)\n",
      "Requirement already satisfied: portalocker~=1.0; platform_system != \"Windows\" in /anaconda/envs/azureml_py36/lib/python3.6/site-packages (from msal-extensions~=0.2.2->azure-identity<1.5.0,>=1.2.0->azureml-dataprep==2.7.3->-r ./requirements.txt (line 5)) (1.7.1)\n",
      "Requirement already satisfied: pyparsing>=2.0.2 in /anaconda/envs/azureml_py36/lib/python3.6/site-packages (from packaging->interpret-community==0.15.*->azureml-interpret==1.20.0->-r ./requirements.txt (line 10)) (2.4.7)\n",
      "Requirement already satisfied: tqdm>4.25.0 in /anaconda/envs/azureml_py36/lib/python3.6/site-packages (from shap<=0.34.0,>=0.20.0->interpret-community==0.15.*->azureml-interpret==1.20.0->-r ./requirements.txt (line 10)) (4.54.0)\n",
      "Note: you may need to restart the kernel to use updated packages.\n"
     ]
    }
   ],
   "execution_count": 1,
   "metadata": {
    "gather": {
     "logged": 1611531963299
    }
   }
  },
  {
   "cell_type": "markdown",
   "source": [
    "##  Uzyskaj obszar roboczy usługi Azure ML"
   ],
   "metadata": {}
  },
  {
   "cell_type": "code",
   "source": [
    "# Wersja SDK powinna być 1.20.0 (stan na 24.01.20 rok - Microsoft lubi często coś zmieniać :/ )\n",
    "import azureml.core\n",
    "\n",
    "print(\"SDK version:\", azureml.core.VERSION)"
   ],
   "outputs": [
    {
     "output_type": "stream",
     "name": "stdout",
     "text": [
      "SDK version: 1.20.0\n"
     ]
    }
   ],
   "execution_count": 1,
   "metadata": {
    "gather": {
     "logged": 1611532012421
    }
   }
  },
  {
   "cell_type": "code",
   "source": [
    "from azureml.core import Workspace, Dataset\n",
    "\n",
    "# Uzyskaj obszar roboczy zdefiniowany w domyślnym pliku config.json\n",
    "ws = Workspace.from_config()"
   ],
   "outputs": [],
   "execution_count": 2,
   "metadata": {
    "gather": {
     "logged": 1611532014879
    }
   }
  },
  {
   "cell_type": "markdown",
   "source": [
    "## Załaduj dane z zestawów danych usługi Azure ML\r\n",
    "\r\n",
    "Nazwa użytego zbioru to `heart-disease`."
   ],
   "metadata": {}
  },
  {
   "cell_type": "code",
   "source": [
    "# Wczytaj dane\n",
    "aml_dataset = ws.datasets['heart-disease']\n",
    "\n",
    "full_df = aml_dataset.to_pandas_dataframe()\n",
    "full_df.head(5)"
   ],
   "outputs": [
    {
     "output_type": "execute_result",
     "execution_count": 3,
     "data": {
      "text/plain": "   age  sex  chest pain type  resting bp s  cholesterol  fasting blood sugar  \\\n0   40    1                2           140          289                    0   \n1   49    0                3           160          180                    0   \n2   37    1                2           130          283                    0   \n3   48    0                4           138          214                    0   \n4   54    1                3           150          195                    0   \n\n   resting ecg  max heart rate  exercise angina  oldpeak  ST slope  target  \n0            0             172                0      0.0         1       0  \n1            0             156                0      1.0         2       1  \n2            1              98                0      0.0         1       0  \n3            0             108                1      1.5         2       1  \n4            0             122                0      0.0         1       0  ",
      "text/html": "<div>\n<style scoped>\n    .dataframe tbody tr th:only-of-type {\n        vertical-align: middle;\n    }\n\n    .dataframe tbody tr th {\n        vertical-align: top;\n    }\n\n    .dataframe thead th {\n        text-align: right;\n    }\n</style>\n<table border=\"1\" class=\"dataframe\">\n  <thead>\n    <tr style=\"text-align: right;\">\n      <th></th>\n      <th>age</th>\n      <th>sex</th>\n      <th>chest pain type</th>\n      <th>resting bp s</th>\n      <th>cholesterol</th>\n      <th>fasting blood sugar</th>\n      <th>resting ecg</th>\n      <th>max heart rate</th>\n      <th>exercise angina</th>\n      <th>oldpeak</th>\n      <th>ST slope</th>\n      <th>target</th>\n    </tr>\n  </thead>\n  <tbody>\n    <tr>\n      <th>0</th>\n      <td>40</td>\n      <td>1</td>\n      <td>2</td>\n      <td>140</td>\n      <td>289</td>\n      <td>0</td>\n      <td>0</td>\n      <td>172</td>\n      <td>0</td>\n      <td>0.0</td>\n      <td>1</td>\n      <td>0</td>\n    </tr>\n    <tr>\n      <th>1</th>\n      <td>49</td>\n      <td>0</td>\n      <td>3</td>\n      <td>160</td>\n      <td>180</td>\n      <td>0</td>\n      <td>0</td>\n      <td>156</td>\n      <td>0</td>\n      <td>1.0</td>\n      <td>2</td>\n      <td>1</td>\n    </tr>\n    <tr>\n      <th>2</th>\n      <td>37</td>\n      <td>1</td>\n      <td>2</td>\n      <td>130</td>\n      <td>283</td>\n      <td>0</td>\n      <td>1</td>\n      <td>98</td>\n      <td>0</td>\n      <td>0.0</td>\n      <td>1</td>\n      <td>0</td>\n    </tr>\n    <tr>\n      <th>3</th>\n      <td>48</td>\n      <td>0</td>\n      <td>4</td>\n      <td>138</td>\n      <td>214</td>\n      <td>0</td>\n      <td>0</td>\n      <td>108</td>\n      <td>1</td>\n      <td>1.5</td>\n      <td>2</td>\n      <td>1</td>\n    </tr>\n    <tr>\n      <th>4</th>\n      <td>54</td>\n      <td>1</td>\n      <td>3</td>\n      <td>150</td>\n      <td>195</td>\n      <td>0</td>\n      <td>0</td>\n      <td>122</td>\n      <td>0</td>\n      <td>0.0</td>\n      <td>1</td>\n      <td>0</td>\n    </tr>\n  </tbody>\n</table>\n</div>"
     },
     "metadata": {}
    }
   ],
   "execution_count": 3,
   "metadata": {
    "gather": {
     "logged": 1611532020934
    }
   }
  },
  {
   "cell_type": "markdown",
   "source": [
    "## Podział zbioru danych na dwie grupy: trenująca i testująca\r\n",
    "Zbiór został podzielony tak, że 85% stanowi zbniór trenujący, a 15% testujący.\r\n",
    "\r\n",
    "Zbiór zawiera 11 cech, które umożliwiają przewidywanie, więc żadna kolumna nie zostanie usunięta do dalszego procesu."
   ],
   "metadata": {}
  },
  {
   "cell_type": "code",
   "source": [
    "train_dataset, test_dataset = aml_dataset.random_split(0.85, seed=1)\n",
    "\n",
    "train_dataset_df = train_dataset.to_pandas_dataframe()\n",
    "test_dataset_df = test_dataset.to_pandas_dataframe()\n",
    "\n",
    "print(train_dataset_df.describe())"
   ],
   "outputs": [
    {
     "output_type": "stream",
     "name": "stdout",
     "text": [
      "               age          sex  chest pain type  resting bp s  cholesterol  \\\n",
      "count  1018.000000  1018.000000      1018.000000   1018.000000  1018.000000   \n",
      "mean     53.613949     0.767191         3.228880    131.942043   209.581532   \n",
      "std       9.184725     0.422830         0.939503     18.277700   101.383293   \n",
      "min      28.000000     0.000000         1.000000      0.000000     0.000000   \n",
      "25%      47.000000     1.000000         3.000000    120.000000   188.000000   \n",
      "50%      54.000000     1.000000         4.000000    130.000000   228.000000   \n",
      "75%      60.000000     1.000000         4.000000    140.000000   269.000000   \n",
      "max      77.000000     1.000000         4.000000    200.000000   603.000000   \n",
      "\n",
      "       fasting blood sugar  resting ecg  max heart rate  exercise angina  \\\n",
      "count          1018.000000  1018.000000     1018.000000      1018.000000   \n",
      "mean              0.214145     0.695481      139.852652         0.389980   \n",
      "std               0.410430     0.868774       25.045797         0.487985   \n",
      "min               0.000000     0.000000       60.000000         0.000000   \n",
      "25%               0.000000     0.000000      122.000000         0.000000   \n",
      "50%               0.000000     0.000000      140.000000         0.000000   \n",
      "75%               0.000000     2.000000      160.000000         1.000000   \n",
      "max               1.000000     2.000000      202.000000         1.000000   \n",
      "\n",
      "           oldpeak     ST slope       target  \n",
      "count  1018.000000  1018.000000  1018.000000  \n",
      "mean      0.926326     1.627701     0.529470  \n",
      "std       1.093430     0.611186     0.499376  \n",
      "min      -2.600000     0.000000     0.000000  \n",
      "25%       0.000000     1.000000     0.000000  \n",
      "50%       0.600000     2.000000     1.000000  \n",
      "75%       1.600000     2.000000     1.000000  \n",
      "max       6.200000     3.000000     1.000000  \n"
     ]
    }
   ],
   "execution_count": 4,
   "metadata": {
    "gather": {
     "logged": 1611532024469
    }
   }
  },
  {
   "cell_type": "markdown",
   "source": [
    "## Połączenie do zdalnego AML Compute (Istniejący AML cluster)\r\n",
    "\r\n",
    "Użyty klaster to `cpu-cluster`."
   ],
   "metadata": {}
  },
  {
   "cell_type": "code",
   "source": [
    "from azureml.core.compute import AmlCompute\n",
    "from azureml.core.compute import ComputeTarget\n",
    "\n",
    "# nazwa klastra\n",
    "amlcompute_cluster_name = \"cpu-clusters\"\n",
    "\n",
    "found = False\n",
    "cts = ws.compute_targets\n",
    "\n",
    "if amlcompute_cluster_name in cts and cts[amlcompute_cluster_name].type == 'AmlCompute':\n",
    "     found = True\n",
    "     print('Found existing training cluster.')\n",
    "     # Get existing cluster\n",
    "     # Method 1:\n",
    "     aml_remote_compute = cts[amlcompute_cluster_name]\n",
    "     # Method 2:\n",
    "     # aml_remote_compute = ComputeTarget(ws, amlcompute_cluster_name)\n",
    "    \n",
    "if not found:\n",
    "     print('Creating a new training cluster...')\n",
    "     provisioning_config = AmlCompute.provisioning_configuration(vm_size = \"STANDARD_D13_V2\", # for GPU, use \"STANDARD_NC12\"\n",
    "                                                                 #vm_priority = 'lowpriority', # optional\n",
    "                                                                 max_nodes = 20)\n",
    "     # Create the cluster.\n",
    "     aml_remote_compute = ComputeTarget.create(ws, amlcompute_cluster_name, provisioning_config)\n",
    "    \n",
    "print('Checking cluster status...')\n",
    "aml_remote_compute.wait_for_completion(show_output = True)"
   ],
   "outputs": [
    {
     "output_type": "stream",
     "name": "stdout",
     "text": [
      "Found existing training cluster.\n",
      "Checking cluster status...\n",
      "Succeeded\n",
      "AmlCompute wait for completion finished\n",
      "\n",
      "Minimum number of nodes requested have been provisioned\n"
     ]
    }
   ],
   "execution_count": 5,
   "metadata": {
    "gather": {
     "logged": 1611532027556
    }
   }
  },
  {
   "cell_type": "markdown",
   "source": [
    "## Zdefiniuj ustawienia eksperymentu AutoML (z AML Remote Compute)\r\n",
    "Należy zdefiniować zadanie, metrykę, czas eksperymentu oraz nazwę kolumny.\r\n",
    "\r\n",
    "W naszym przypadku jest to:\r\n",
    "\r\n",
    "task = `'classification'`\r\n",
    "\r\n",
    "primary_metric=`'accuracy'`\r\n",
    "\r\n",
    "experiment_timeout_minutes=`15`    \r\n",
    "\r\n",
    "label_column_name=`\"target\"`"
   ],
   "metadata": {}
  },
  {
   "cell_type": "code",
   "source": [
    "import logging\n",
    "import os\n",
    "\n",
    "from azureml.train.automl import AutoMLConfig\n",
    "\n",
    "project_folder = './heart-1'\n",
    "os.makedirs(project_folder, exist_ok=True)\n",
    "\n",
    "automl_config = AutoMLConfig(compute_target=aml_remote_compute,\n",
    "                             task='classification',\n",
    "                             primary_metric='accuracy',\n",
    "                             experiment_timeout_minutes=15,                            \n",
    "                             training_data=train_dataset,\n",
    "                             label_column_name=\"target\",\n",
    "                             n_cross_validations=5,\n",
    "                             # blacklist_models='XGBoostClassifier', \n",
    "                             # iteration_timeout_minutes=5,                                                    \n",
    "                             enable_early_stopping=True,\n",
    "                             featurization='auto',\n",
    "                             debug_log='automated_ml_errors.log',\n",
    "                             verbosity=logging.INFO,\n",
    "                             path=project_folder\n",
    "                             )"
   ],
   "outputs": [],
   "execution_count": 6,
   "metadata": {
    "gather": {
     "logged": 1611532031763
    }
   }
  },
  {
   "cell_type": "markdown",
   "source": [
    "## Uruchom eksperyment (na komputerze zdalnym AML) z wieloma przebiegami podrzędnymi\r\n",
    "W testowanych przypadkach ten krok zajmował ok 25-30 minut."
   ],
   "metadata": {}
  },
  {
   "cell_type": "code",
   "source": [
    "from azureml.core import Experiment\n",
    "from datetime import datetime\n",
    "\n",
    "now = datetime.now()\n",
    "time_string = now.strftime(\"%m-%d-%Y-%H\")\n",
    "experiment_name = \"classif-automl-remote-{0}\".format(time_string)\n",
    "print(experiment_name)\n",
    "\n",
    "experiment = Experiment(workspace=ws, name=experiment_name)\n",
    "\n",
    "import time\n",
    "start_time = time.time()\n",
    "            \n",
    "run = experiment.submit(automl_config, show_output=True)\n",
    "\n",
    "print('Manual run timing: --- %s seconds needed for running the whole Remote AutoML Experiment ---' % (time.time() - start_time))"
   ],
   "outputs": [
    {
     "output_type": "stream",
     "name": "stdout",
     "text": [
      "classif-automl-remote-01-24-2021-23\n",
      "Running on remote.\n",
      "No run_configuration provided, running on cpu-clusters with default configuration\n",
      "Running on remote compute: cpu-clusters\n",
      "Parent Run ID: AutoML_6b204923-3c43-4242-9411-c78c90ed92a2\n",
      "\n",
      "Current status: FeaturesGeneration. Generating features for the dataset.\n",
      "Current status: DatasetFeaturization. Beginning to fit featurizers and featurize the dataset.\n",
      "Current status: DatasetCrossValidationSplit. Generating individually featurized CV splits.\n",
      "Current status: ModelSelection. Beginning model selection.\n",
      "\n",
      "****************************************************************************************************\n",
      "DATA GUARDRAILS: \n",
      "\n",
      "TYPE:         Class balancing detection\n",
      "STATUS:       PASSED\n",
      "DESCRIPTION:  Your inputs were analyzed, and all classes are balanced in your training data.\n",
      "              Learn more about imbalanced data: https://aka.ms/AutomatedMLImbalancedData\n",
      "\n",
      "****************************************************************************************************\n",
      "\n",
      "TYPE:         Missing feature values imputation\n",
      "STATUS:       PASSED\n",
      "DESCRIPTION:  No feature missing values were detected in the training data.\n",
      "              Learn more about missing value imputation: https://aka.ms/AutomatedMLFeaturization\n",
      "\n",
      "****************************************************************************************************\n",
      "\n",
      "TYPE:         High cardinality feature detection\n",
      "STATUS:       PASSED\n",
      "DESCRIPTION:  Your inputs were analyzed, and no high cardinality features were detected.\n",
      "              Learn more about high cardinality feature handling: https://aka.ms/AutomatedMLFeaturization\n",
      "\n",
      "****************************************************************************************************\n",
      "\n",
      "****************************************************************************************************\n",
      "ITERATION: The iteration being evaluated.\n",
      "PIPELINE: A summary description of the pipeline being evaluated.\n",
      "DURATION: Time taken for the current iteration.\n",
      "METRIC: The result of computing score on the fitted pipeline.\n",
      "BEST: The best observed score thus far.\n",
      "****************************************************************************************************\n",
      "\n",
      " ITERATION   PIPELINE                                       DURATION      METRIC      BEST\n",
      "         0   MaxAbsScaler LightGBM                          0:00:45       0.9145    0.9145\n",
      "         1   MaxAbsScaler XGBoostClassifier                 0:01:19       0.8782    0.9145\n",
      "         2   MaxAbsScaler RandomForest                      0:00:42       0.8428    0.9145\n",
      "         3   MaxAbsScaler RandomForest                      0:00:40       0.8222    0.9145\n",
      "         4   MaxAbsScaler RandomForest                      0:00:42       0.8477    0.9145\n",
      "         5   MaxAbsScaler RandomForest                      0:00:43       0.8153    0.9145\n",
      "         6   SparseNormalizer XGBoostClassifier             0:00:42       0.9165    0.9165\n",
      "         7   MaxAbsScaler RandomForest                      0:00:46       0.8369    0.9165\n",
      "         8   SparseNormalizer LightGBM                      0:00:37       0.8389    0.9165\n",
      "         9   MaxAbsScaler LogisticRegression                0:00:42       0.8320    0.9165\n",
      "        10   MaxAbsScaler LightGBM                          0:00:42       0.8438    0.9165\n",
      "        11   SparseNormalizer XGBoostClassifier             0:00:40       0.8173    0.9165\n",
      "        12   SparseNormalizer XGBoostClassifier             0:00:42       0.8920    0.9165\n",
      "        13   MaxAbsScaler GradientBoosting                  0:00:42       0.8487    0.9165\n",
      "        14   StandardScalerWrapper RandomForest             0:00:40       0.8389    0.9165\n",
      "        15   SparseNormalizer XGBoostClassifier             0:00:42       0.9106    0.9165\n",
      "        16    VotingEnsemble                                0:01:03       0.9332    0.9332\n",
      "        17    StackEnsemble                                 0:01:04       0.9244    0.9332\n",
      "Manual run timing: --- 1261.323347568512 seconds needed for running the whole Remote AutoML Experiment ---\n"
     ]
    }
   ],
   "execution_count": 7,
   "metadata": {
    "gather": {
     "logged": 1611533296083
    }
   }
  },
  {
   "cell_type": "markdown",
   "source": [
    "### Pokazanie szczegółów procesu oraz znalezenie najlepszego modelu"
   ],
   "metadata": {}
  },
  {
   "cell_type": "code",
   "source": [
    "import time\n",
    "import datetime as dt\n",
    "\n",
    "run_details = run.get_details()\n",
    "\n",
    "end_time_utc_str = run_details['endTimeUtc'].split(\".\")[0]\n",
    "start_time_utc_str = run_details['startTimeUtc'].split(\".\")[0]\n",
    "timestamp_end = time.mktime(datetime.strptime(end_time_utc_str, \"%Y-%m-%dT%H:%M:%S\").timetuple())\n",
    "timestamp_start = time.mktime(datetime.strptime(start_time_utc_str, \"%Y-%m-%dT%H:%M:%S\").timetuple())\n",
    "\n",
    "parent_run_time = timestamp_end - timestamp_start\n",
    "print('Run Timing: --- %s seconds needed for running the whole Remote AutoML Experiment ---' % (parent_run_time))\n",
    "\n",
    "#Best model\n",
    "best_run, fitted_model = run.get_output()\n",
    "print(best_run)\n",
    "print(fitted_model)"
   ],
   "outputs": [
    {
     "output_type": "stream",
     "name": "stdout",
     "text": [
      "Run Timing: --- 1230.0 seconds needed for running the whole Remote AutoML Experiment ---\n",
      "Run(Experiment: classif-automl-remote-01-24-2021-23,\n",
      "Id: AutoML_6b204923-3c43-4242-9411-c78c90ed92a2_16,\n",
      "Type: azureml.scriptrun,\n",
      "Status: Completed)\n",
      "Pipeline(memory=None,\n",
      "         steps=[('datatransformer',\n",
      "                 DataTransformer(enable_dnn=None, enable_feature_sweeping=None,\n",
      "                                 feature_sweeping_config=None,\n",
      "                                 feature_sweeping_timeout=None,\n",
      "                                 featurization_config=None, force_text_dnn=None,\n",
      "                                 is_cross_validation=None,\n",
      "                                 is_onnx_compatible=None, logger=None,\n",
      "                                 observer=None, task=None, working_dir=None)),\n",
      "                ('prefittedsoftvotingclassifier',...\n",
      "                                                                                                    min_impurity_split=None,\n",
      "                                                                                                    min_samples_leaf=0.01,\n",
      "                                                                                                    min_samples_split=0.01,\n",
      "                                                                                                    min_weight_fraction_leaf=0.0,\n",
      "                                                                                                    n_estimators=25,\n",
      "                                                                                                    n_jobs=1,\n",
      "                                                                                                    oob_score=True,\n",
      "                                                                                                    random_state=None,\n",
      "                                                                                                    verbose=0,\n",
      "                                                                                                    warm_start=False))],\n",
      "                                                                     verbose=False))],\n",
      "                                               flatten_transform=None,\n",
      "                                               weights=[0.06666666666666667,\n",
      "                                                        0.26666666666666666,\n",
      "                                                        0.2, 0.3333333333333333,\n",
      "                                                        0.06666666666666667,\n",
      "                                                        0.06666666666666667]))],\n",
      "         verbose=False)\n"
     ]
    }
   ],
   "execution_count": 8,
   "metadata": {
    "gather": {
     "logged": 1611533341255
    }
   }
  },
  {
   "cell_type": "markdown",
   "source": [
    "Najpelszy algorytm/model to `prefittedsoftvotingclassifier`"
   ],
   "metadata": {
    "nteract": {
     "transient": {
      "deleting": false
     }
    }
   }
  },
  {
   "cell_type": "markdown",
   "source": [
    "## Prognozowanie"
   ],
   "metadata": {}
  },
  {
   "cell_type": "markdown",
   "source": [
    "### Wyodrębnij wartości X (kolumny funkcji) z testowego zestawu danych i przekonwertuj na tablicę NumPi w celu przewidywania"
   ],
   "metadata": {}
  },
  {
   "cell_type": "code",
   "source": [
    "import pandas as pd\n",
    "\n",
    "if 'target' in test_dataset_df.columns:\n",
    "    y_test_df = test_dataset_df.pop('target')\n",
    "\n",
    "x_test_df = test_dataset_df"
   ],
   "outputs": [],
   "execution_count": 9,
   "metadata": {
    "gather": {
     "logged": 1611533355209
    }
   }
  },
  {
   "cell_type": "markdown",
   "source": [
    "### Dokonaj rzeczywistych prognoz"
   ],
   "metadata": {}
  },
  {
   "cell_type": "code",
   "source": [
    "y_predictions = fitted_model.predict(x_test_df)\n",
    "\n",
    "print('10 predictions: ')\n",
    "print(y_predictions[:10])"
   ],
   "outputs": [
    {
     "output_type": "stream",
     "name": "stdout",
     "text": [
      "10 predictions: \n",
      "[0 0 0 0 0 1 1 0 0 0]\n"
     ]
    }
   ],
   "execution_count": 10,
   "metadata": {
    "gather": {
     "logged": 1611533358750
    }
   }
  },
  {
   "cell_type": "code",
   "source": [
    "y_predictions.shape"
   ],
   "outputs": [
    {
     "output_type": "execute_result",
     "execution_count": 11,
     "data": {
      "text/plain": "(172,)"
     },
     "metadata": {}
    }
   ],
   "execution_count": 11,
   "metadata": {
    "gather": {
     "logged": 1611533361751
    }
   }
  },
  {
   "cell_type": "markdown",
   "source": [
    "### Oblicz dokładność za pomocą zestawu danych testowych"
   ],
   "metadata": {}
  },
  {
   "cell_type": "code",
   "source": [
    "from sklearn.metrics import accuracy_score\n",
    "\n",
    "print('Accuracy')\n",
    "accuracy_score(y_test_df, y_predictions)"
   ],
   "outputs": [
    {
     "output_type": "stream",
     "name": "stdout",
     "text": [
      "Accuracy\n"
     ]
    },
    {
     "output_type": "execute_result",
     "execution_count": 12,
     "data": {
      "text/plain": "0.9418604651162791"
     },
     "metadata": {}
    }
   ],
   "execution_count": 12,
   "metadata": {
    "gather": {
     "logged": 1611533365373
    }
   }
  },
  {
   "cell_type": "markdown",
   "source": [
    "Otrzymana dokładność tym sposobem wyniosła 94,19%, ale proces zamiast 2h został skrócony do 15 minut."
   ],
   "metadata": {
    "nteract": {
     "transient": {
      "deleting": false
     }
    }
   }
  }
 ],
 "metadata": {
  "kernel_info": {
   "name": "python3-azureml"
  },
  "kernelspec": {
   "name": "python3-azureml",
   "language": "python",
   "display_name": "Python 3.6 - AzureML"
  },
  "language_info": {
   "name": "python",
   "version": "3.6.9",
   "mimetype": "text/x-python",
   "codemirror_mode": {
    "name": "ipython",
    "version": 3
   },
   "pygments_lexer": "ipython3",
   "nbconvert_exporter": "python",
   "file_extension": ".py"
  },
  "nteract": {
   "version": "nteract-front-end@1.0.0"
  }
 },
 "nbformat": 4,
 "nbformat_minor": 4
}